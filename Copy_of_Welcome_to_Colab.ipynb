{
  "cells": [
    {
      "cell_type": "markdown",
      "metadata": {
        "id": "view-in-github",
        "colab_type": "text"
      },
      "source": [
        "<a href=\"https://colab.research.google.com/github/HariKarthick22/githubcse-1/blob/main/Copy_of_Welcome_to_Colab.ipynb\" target=\"_parent\"><img src=\"https://colab.research.google.com/assets/colab-badge.svg\" alt=\"Open In Colab\"/></a>"
      ]
    },
    {
      "cell_type": "code",
      "source": [
        "!pip install transformers"
      ],
      "metadata": {
        "id": "NMwcEdFXefFS",
        "outputId": "9c6f6310-4dca-46ba-8f33-e3c3dd3906ff",
        "colab": {
          "base_uri": "https://localhost:8080/"
        }
      },
      "execution_count": null,
      "outputs": [
        {
          "output_type": "stream",
          "name": "stdout",
          "text": [
            "Requirement already satisfied: transformers in /usr/local/lib/python3.11/dist-packages (4.52.4)\n",
            "Requirement already satisfied: filelock in /usr/local/lib/python3.11/dist-packages (from transformers) (3.18.0)\n",
            "Requirement already satisfied: huggingface-hub<1.0,>=0.30.0 in /usr/local/lib/python3.11/dist-packages (from transformers) (0.32.4)\n",
            "Requirement already satisfied: numpy>=1.17 in /usr/local/lib/python3.11/dist-packages (from transformers) (2.0.2)\n",
            "Requirement already satisfied: packaging>=20.0 in /usr/local/lib/python3.11/dist-packages (from transformers) (24.2)\n",
            "Requirement already satisfied: pyyaml>=5.1 in /usr/local/lib/python3.11/dist-packages (from transformers) (6.0.2)\n",
            "Requirement already satisfied: regex!=2019.12.17 in /usr/local/lib/python3.11/dist-packages (from transformers) (2024.11.6)\n",
            "Requirement already satisfied: requests in /usr/local/lib/python3.11/dist-packages (from transformers) (2.32.3)\n",
            "Requirement already satisfied: tokenizers<0.22,>=0.21 in /usr/local/lib/python3.11/dist-packages (from transformers) (0.21.1)\n",
            "Requirement already satisfied: safetensors>=0.4.3 in /usr/local/lib/python3.11/dist-packages (from transformers) (0.5.3)\n",
            "Requirement already satisfied: tqdm>=4.27 in /usr/local/lib/python3.11/dist-packages (from transformers) (4.67.1)\n",
            "Requirement already satisfied: fsspec>=2023.5.0 in /usr/local/lib/python3.11/dist-packages (from huggingface-hub<1.0,>=0.30.0->transformers) (2025.3.2)\n",
            "Requirement already satisfied: typing-extensions>=3.7.4.3 in /usr/local/lib/python3.11/dist-packages (from huggingface-hub<1.0,>=0.30.0->transformers) (4.14.0)\n",
            "Requirement already satisfied: hf-xet<2.0.0,>=1.1.2 in /usr/local/lib/python3.11/dist-packages (from huggingface-hub<1.0,>=0.30.0->transformers) (1.1.2)\n",
            "Requirement already satisfied: charset-normalizer<4,>=2 in /usr/local/lib/python3.11/dist-packages (from requests->transformers) (3.4.2)\n",
            "Requirement already satisfied: idna<4,>=2.5 in /usr/local/lib/python3.11/dist-packages (from requests->transformers) (3.10)\n",
            "Requirement already satisfied: urllib3<3,>=1.21.1 in /usr/local/lib/python3.11/dist-packages (from requests->transformers) (2.4.0)\n",
            "Requirement already satisfied: certifi>=2017.4.17 in /usr/local/lib/python3.11/dist-packages (from requests->transformers) (2025.4.26)\n"
          ]
        }
      ]
    },
    {
      "cell_type": "code",
      "source": [
        "from IPython.display import display, clear_output\n",
        "import ipywidgets as widgets\n",
        "\n",
        "from transformers import pipeline, AutoTokenizer, AutoModelForSequenceClassification\n",
        "from transformers import T5Tokenizer, T5ForConditionalGeneration\n",
        "import torch\n",
        "import pandas as pd\n",
        "import matplotlib.pyplot as plt\n",
        "import seaborn as sns\n",
        "\n",
        "# Load models\n",
        "sentiment_analyzer = pipeline(\"sentiment-analysis\", model=\"cardiffnlp/twitter-roberta-base-sentiment\")\n",
        "sarcasm_tokenizer = T5Tokenizer.from_pretrained(\"mrm8488/t5-base-finetuned-sarcasm-twitter\")\n",
        "sarcasm_model = T5ForConditionalGeneration.from_pretrained(\"mrm8488/t5-base-finetuned-sarcasm-twitter\")\n",
        "\n",
        "CATEGORY_KEYWORDS = {\n",
        "    \"Politics\": [\"election\", \"president\", \"vote\", \"government\", \"minister\", \"campaign\", \"policy\"],\n",
        "    \"Finance\": [\"market\", \"stocks\", \"money\", \"economy\", \"investment\", \"dollar\", \"inflation\", \"bank\"],\n",
        "    \"Technology\": [\"ai\", \"software\", \"robot\", \"tech\", \"digital\", \"device\", \"startup\", \"innovation\"],\n",
        "    \"Health\": [\"vaccine\", \"covid\", \"virus\", \"disease\", \"hospital\", \"treatment\", \"healthcare\"],\n",
        "    \"Entertainment\": [\"movie\", \"music\", \"actor\", \"film\", \"award\", \"celebrity\", \"tv\", \"show\"],\n",
        "    \"Sports\": [\"cricket\", \"football\", \"score\", \"goal\", \"match\", \"tournament\", \"player\", \"win\"]\n",
        "}\n",
        "\n",
        "def get_category(headline):\n",
        "    headline = headline.lower()\n",
        "    scores = {cat: 0 for cat in CATEGORY_KEYWORDS}\n",
        "    for cat, keywords in CATEGORY_KEYWORDS.items():\n",
        "        for keyword in keywords:\n",
        "            if keyword in headline:\n",
        "                scores[cat] += 1\n",
        "    max_score = max(scores.values())\n",
        "    return max(scores.items(), key=lambda x: x[1])[0] if max_score > 0 else \"General\"\n",
        "\n",
        "def detect_sarcasm(text):\n",
        "    input_text = f\"sarcasm: {text}\"\n",
        "    inputs = sarcasm_tokenizer.encode(input_text, return_tensors=\"pt\", max_length=128, truncation=True)\n",
        "    with torch.no_grad():\n",
        "        outputs = sarcasm_model.generate(inputs, max_length=2)\n",
        "    prediction = sarcasm_tokenizer.decode(outputs[0], skip_special_tokens=True)\n",
        "    return \"Sarcastic\" if prediction.lower() == \"sarcasm\" else \"Not Sarcastic\"\n",
        "\n",
        "def analyze_headlines(headlines):\n",
        "    results = []\n",
        "    batch_size = 8\n",
        "    for i in range(0, len(headlines), batch_size):\n",
        "        batch = headlines[i:i + batch_size]\n",
        "        sentiment_results = sentiment_analyzer(batch)\n",
        "\n",
        "        for j, result in enumerate(sentiment_results):\n",
        "            headline = batch[j]\n",
        "            label = result['label']\n",
        "            sentiment = {\n",
        "                \"LABEL_0\": \"Negative\",\n",
        "                \"LABEL_1\": \"Neutral\",\n",
        "                \"LABEL_2\": \"Positive\"\n",
        "            }.get(label, \"Unknown\")\n",
        "            confidence = round(result['score'] * 100, 1)\n",
        "            polarity = f\"{sentiment} ({confidence}%)\"\n",
        "            sarcasm = detect_sarcasm(headline)\n",
        "            negation = \"not\" in headline.lower() or \"n't\" in headline.lower()\n",
        "            category = get_category(headline)\n",
        "\n",
        "            results.append({\n",
        "                \"headline\": headline,\n",
        "                \"sentiment\": sentiment,\n",
        "                \"confidence\": confidence,\n",
        "                \"polarity\": polarity,\n",
        "                \"sarcasm\": sarcasm,\n",
        "                \"negation\": negation,\n",
        "                \"category\": category\n",
        "            })\n",
        "    return results\n",
        "\n",
        "def visualize_results(results_df):\n",
        "    fig, (ax1, ax2) = plt.subplots(1, 2, figsize=(12, 5))\n",
        "    sns.countplot(x='sentiment', data=results_df, ax=ax1, palette='Set2')\n",
        "    ax1.set_title('Sentiment Distribution')\n",
        "    ax1.set_ylabel('Count')\n",
        "\n",
        "    category_counts = results_df['category'].value_counts()\n",
        "    category_counts.plot.pie(autopct='%1.1f%%', ax=ax2, colors=sns.color_palette(\"Set3\", len(category_counts)))\n",
        "    ax2.set_title('Category Distribution')\n",
        "    ax2.set_ylabel('')\n",
        "    plt.tight_layout()\n",
        "    plt.show()\n",
        "\n",
        "# --- Interactive Interface ---\n",
        "text_input = widgets.Textarea(\n",
        "    value='Paste or type headlines here.\\nOne headline per line.',\n",
        "    placeholder='Enter headlines...',\n",
        "    description='Headlines:',\n",
        "    layout=widgets.Layout(width='100%', height='200px'),\n",
        "    style={'description_width': 'initial'}\n",
        ")\n",
        "\n",
        "button = widgets.Button(description=\"Analyze Headlines\", button_style='success')\n",
        "output_box = widgets.Output()\n",
        "\n",
        "def on_button_click(b):\n",
        "    with output_box:\n",
        "        clear_output()\n",
        "        lines = text_input.value.strip().split('\\n')\n",
        "        headlines = [line.strip() for line in lines if line.strip()]\n",
        "\n",
        "        if len(headlines) < 1:\n",
        "            print(\"Please enter at least one headline.\")\n",
        "            return\n",
        "\n",
        "        print(\"🔍 Analyzing...\")\n",
        "        output = analyze_headlines(headlines)\n",
        "        results_df = pd.DataFrame(output)\n",
        "\n",
        "        for i, item in enumerate(output):\n",
        "            print(f\"\\nHeadline {i+1}: {item['headline']}\")\n",
        "            print(f\"  Sentiment   : {item['sentiment']} (Confidence: {item['confidence']}%)\")\n",
        "            print(f\"  Polarity    : {item['polarity']}\")\n",
        "            print(f\"  Sarcasm     : {item['sarcasm']}\")\n",
        "            print(f\"  Negation    : {'Yes' if item['negation'] else 'No'}\")\n",
        "            print(f\"  Category    : {item['category']}\")\n",
        "\n",
        "        print(\"\\n📈 SUMMARY 📈\")\n",
        "        print(f\"Total Headlines: {len(results_df)}\")\n",
        "        print(f\"Sentiment Counts:\\n{results_df['sentiment'].value_counts()}\")\n",
        "        print(f\"Top Category: {results_df['category'].value_counts().idxmax()}\")\n",
        "        visualize_results(results_df)\n",
        "\n",
        "button.on_click(on_button_click)\n",
        "\n",
        "display(text_input, button, output_box)\n"
      ],
      "metadata": {
        "colab": {
          "base_uri": "https://localhost:8080/",
          "height": 309,
          "referenced_widgets": [
            "44811dc1f3ea468e8348c3d697e01f6d",
            "48a303389fbd4f7bbb0138cb68c24496",
            "3382d5ce4a5b456cb0118f0d14c7d164",
            "d6b0948e7f9e44568e1b2f1e03c31c1c",
            "4c63b65c180043a9a3081c5322dd4483",
            "c64da7660ec44dab81dc1766da6a7cb9",
            "143dd36ea9ad4306a5d01490c320c52d",
            "5aa16828e16c40c7bda92aa91669d48b"
          ]
        },
        "id": "boLrg9UpsB4X",
        "outputId": "6c3c27c6-e606-42f6-be5a-ab85bbbd9b92"
      },
      "execution_count": null,
      "outputs": [
        {
          "output_type": "stream",
          "name": "stderr",
          "text": [
            "Device set to use cpu\n"
          ]
        },
        {
          "output_type": "display_data",
          "data": {
            "text/plain": [
              "Textarea(value='Paste or type headlines here.\\nOne headline per line.', description='Headlines:', layout=Layou…"
            ],
            "application/vnd.jupyter.widget-view+json": {
              "version_major": 2,
              "version_minor": 0,
              "model_id": "44811dc1f3ea468e8348c3d697e01f6d"
            }
          },
          "metadata": {}
        },
        {
          "output_type": "display_data",
          "data": {
            "text/plain": [
              "Button(button_style='success', description='Analyze Headlines', style=ButtonStyle())"
            ],
            "application/vnd.jupyter.widget-view+json": {
              "version_major": 2,
              "version_minor": 0,
              "model_id": "d6b0948e7f9e44568e1b2f1e03c31c1c"
            }
          },
          "metadata": {}
        },
        {
          "output_type": "display_data",
          "data": {
            "text/plain": [
              "Output()"
            ],
            "application/vnd.jupyter.widget-view+json": {
              "version_major": 2,
              "version_minor": 0,
              "model_id": "143dd36ea9ad4306a5d01490c320c52d"
            }
          },
          "metadata": {}
        }
      ]
    }
  ],
  "metadata": {
    "colab": {
      "provenance": [],
      "include_colab_link": true
    },
    "kernelspec": {
      "display_name": "Python 3",
      "name": "python3"
    },
    "widgets": {
      "application/vnd.jupyter.widget-state+json": {
        "44811dc1f3ea468e8348c3d697e01f6d": {
          "model_module": "@jupyter-widgets/controls",
          "model_name": "TextareaModel",
          "model_module_version": "1.5.0",
          "state": {
            "_dom_classes": [],
            "_model_module": "@jupyter-widgets/controls",
            "_model_module_version": "1.5.0",
            "_model_name": "TextareaModel",
            "_view_count": null,
            "_view_module": "@jupyter-widgets/controls",
            "_view_module_version": "1.5.0",
            "_view_name": "TextareaView",
            "continuous_update": true,
            "description": "Headlines:",
            "description_tooltip": null,
            "disabled": false,
            "layout": "IPY_MODEL_48a303389fbd4f7bbb0138cb68c24496",
            "placeholder": "Enter headlines...",
            "rows": null,
            "style": "IPY_MODEL_3382d5ce4a5b456cb0118f0d14c7d164",
            "value": "Paste or type headlines here.\nOne headline per line.1.  Government announces new tax reforms to boost the economy\n  2.  Massive earthquake hits Japan, thousands evacuated\n  3.  Scientists discover potential cure for Alzheimer’s disease\n  4.  Stock markets surge after positive job growth report\n  5.  Cyber attack compromises millions of user accounts globally\n  6.  Actor wins national award for outstanding performance in latest film\n\n"
          }
        },
        "48a303389fbd4f7bbb0138cb68c24496": {
          "model_module": "@jupyter-widgets/base",
          "model_name": "LayoutModel",
          "model_module_version": "1.2.0",
          "state": {
            "_model_module": "@jupyter-widgets/base",
            "_model_module_version": "1.2.0",
            "_model_name": "LayoutModel",
            "_view_count": null,
            "_view_module": "@jupyter-widgets/base",
            "_view_module_version": "1.2.0",
            "_view_name": "LayoutView",
            "align_content": null,
            "align_items": null,
            "align_self": null,
            "border": null,
            "bottom": null,
            "display": null,
            "flex": null,
            "flex_flow": null,
            "grid_area": null,
            "grid_auto_columns": null,
            "grid_auto_flow": null,
            "grid_auto_rows": null,
            "grid_column": null,
            "grid_gap": null,
            "grid_row": null,
            "grid_template_areas": null,
            "grid_template_columns": null,
            "grid_template_rows": null,
            "height": "200px",
            "justify_content": null,
            "justify_items": null,
            "left": null,
            "margin": null,
            "max_height": null,
            "max_width": null,
            "min_height": null,
            "min_width": null,
            "object_fit": null,
            "object_position": null,
            "order": null,
            "overflow": null,
            "overflow_x": null,
            "overflow_y": null,
            "padding": null,
            "right": null,
            "top": null,
            "visibility": null,
            "width": "100%"
          }
        },
        "3382d5ce4a5b456cb0118f0d14c7d164": {
          "model_module": "@jupyter-widgets/controls",
          "model_name": "DescriptionStyleModel",
          "model_module_version": "1.5.0",
          "state": {
            "_model_module": "@jupyter-widgets/controls",
            "_model_module_version": "1.5.0",
            "_model_name": "DescriptionStyleModel",
            "_view_count": null,
            "_view_module": "@jupyter-widgets/base",
            "_view_module_version": "1.2.0",
            "_view_name": "StyleView",
            "description_width": "initial"
          }
        },
        "d6b0948e7f9e44568e1b2f1e03c31c1c": {
          "model_module": "@jupyter-widgets/controls",
          "model_name": "ButtonModel",
          "model_module_version": "1.5.0",
          "state": {
            "_dom_classes": [],
            "_model_module": "@jupyter-widgets/controls",
            "_model_module_version": "1.5.0",
            "_model_name": "ButtonModel",
            "_view_count": null,
            "_view_module": "@jupyter-widgets/controls",
            "_view_module_version": "1.5.0",
            "_view_name": "ButtonView",
            "button_style": "success",
            "description": "Analyze Headlines",
            "disabled": false,
            "icon": "",
            "layout": "IPY_MODEL_4c63b65c180043a9a3081c5322dd4483",
            "style": "IPY_MODEL_c64da7660ec44dab81dc1766da6a7cb9",
            "tooltip": ""
          }
        },
        "4c63b65c180043a9a3081c5322dd4483": {
          "model_module": "@jupyter-widgets/base",
          "model_name": "LayoutModel",
          "model_module_version": "1.2.0",
          "state": {
            "_model_module": "@jupyter-widgets/base",
            "_model_module_version": "1.2.0",
            "_model_name": "LayoutModel",
            "_view_count": null,
            "_view_module": "@jupyter-widgets/base",
            "_view_module_version": "1.2.0",
            "_view_name": "LayoutView",
            "align_content": null,
            "align_items": null,
            "align_self": null,
            "border": null,
            "bottom": null,
            "display": null,
            "flex": null,
            "flex_flow": null,
            "grid_area": null,
            "grid_auto_columns": null,
            "grid_auto_flow": null,
            "grid_auto_rows": null,
            "grid_column": null,
            "grid_gap": null,
            "grid_row": null,
            "grid_template_areas": null,
            "grid_template_columns": null,
            "grid_template_rows": null,
            "height": null,
            "justify_content": null,
            "justify_items": null,
            "left": null,
            "margin": null,
            "max_height": null,
            "max_width": null,
            "min_height": null,
            "min_width": null,
            "object_fit": null,
            "object_position": null,
            "order": null,
            "overflow": null,
            "overflow_x": null,
            "overflow_y": null,
            "padding": null,
            "right": null,
            "top": null,
            "visibility": null,
            "width": null
          }
        },
        "c64da7660ec44dab81dc1766da6a7cb9": {
          "model_module": "@jupyter-widgets/controls",
          "model_name": "ButtonStyleModel",
          "model_module_version": "1.5.0",
          "state": {
            "_model_module": "@jupyter-widgets/controls",
            "_model_module_version": "1.5.0",
            "_model_name": "ButtonStyleModel",
            "_view_count": null,
            "_view_module": "@jupyter-widgets/base",
            "_view_module_version": "1.2.0",
            "_view_name": "StyleView",
            "button_color": null,
            "font_weight": ""
          }
        },
        "143dd36ea9ad4306a5d01490c320c52d": {
          "model_module": "@jupyter-widgets/output",
          "model_name": "OutputModel",
          "model_module_version": "1.0.0",
          "state": {
            "_dom_classes": [],
            "_model_module": "@jupyter-widgets/output",
            "_model_module_version": "1.0.0",
            "_model_name": "OutputModel",
            "_view_count": null,
            "_view_module": "@jupyter-widgets/output",
            "_view_module_version": "1.0.0",
            "_view_name": "OutputView",
            "layout": "IPY_MODEL_5aa16828e16c40c7bda92aa91669d48b",
            "msg_id": "bca4ba24-27eb-4897-d4e5-ce33da923599",
            "outputs": [
              {
                "output_type": "stream",
                "name": "stdout",
                "text": [
                  "🔍 Analyzing...\n"
                ]
              }
            ]
          }
        },
        "5aa16828e16c40c7bda92aa91669d48b": {
          "model_module": "@jupyter-widgets/base",
          "model_name": "LayoutModel",
          "model_module_version": "1.2.0",
          "state": {
            "_model_module": "@jupyter-widgets/base",
            "_model_module_version": "1.2.0",
            "_model_name": "LayoutModel",
            "_view_count": null,
            "_view_module": "@jupyter-widgets/base",
            "_view_module_version": "1.2.0",
            "_view_name": "LayoutView",
            "align_content": null,
            "align_items": null,
            "align_self": null,
            "border": null,
            "bottom": null,
            "display": null,
            "flex": null,
            "flex_flow": null,
            "grid_area": null,
            "grid_auto_columns": null,
            "grid_auto_flow": null,
            "grid_auto_rows": null,
            "grid_column": null,
            "grid_gap": null,
            "grid_row": null,
            "grid_template_areas": null,
            "grid_template_columns": null,
            "grid_template_rows": null,
            "height": null,
            "justify_content": null,
            "justify_items": null,
            "left": null,
            "margin": null,
            "max_height": null,
            "max_width": null,
            "min_height": null,
            "min_width": null,
            "object_fit": null,
            "object_position": null,
            "order": null,
            "overflow": null,
            "overflow_x": null,
            "overflow_y": null,
            "padding": null,
            "right": null,
            "top": null,
            "visibility": null,
            "width": null
          }
        }
      }
    }
  },
  "nbformat": 4,
  "nbformat_minor": 0
}